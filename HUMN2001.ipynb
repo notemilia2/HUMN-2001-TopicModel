{
 "cells": [
  {
   "cell_type": "code",
   "execution_count": 1,
   "id": "d8eabd4a",
   "metadata": {},
   "outputs": [],
   "source": [
    "import pandas as pd\n",
    "\n",
    "data=pd.read_csv(r\"C:\\Users\\emili\\Downloads\\pandas\\Book12.csv\", encoding='latin1')"
   ]
  },
  {
   "cell_type": "code",
   "execution_count": 2,
   "id": "5a144a8b",
   "metadata": {},
   "outputs": [],
   "source": [
    "import numpy as np\n",
    "import gensim\n",
    "import os\n",
    "\n",
    "from gensim.utils import simple_preprocess\n",
    "import nltk"
   ]
  },
  {
   "cell_type": "code",
   "execution_count": 3,
   "id": "afcad584",
   "metadata": {},
   "outputs": [],
   "source": [
    "list_of_column_names = list(data.columns)"
   ]
  },
  {
   "cell_type": "code",
   "execution_count": 4,
   "id": "c20b9c47",
   "metadata": {},
   "outputs": [
    {
     "name": "stdout",
     "output_type": "stream",
     "text": [
      "List of column names :  ['FROM A LONDON PAPER. HOUSE ?? COMMONS. ???? 11, 1802. The House resolved itself into a Committee of Supply upon His Majesty\\x92s Message.??? The Chancellor of the Exchequer moved an Annuity of 2000l. to Lord Hutchinson, to commence from the 2d Sept. 1801.??? A- greed to. Mr. Vansittart stated the necessity of giv- ing more encouragement to our Fisheries, in consequence of the Dutch encouraging theirs.--- He therefore moved that the duties imposed in the present Session upon the im- portation of Blubber, Train and Fish Oil, should cease ; which being agreed to, he moved that the following duties be substi- tuted in lieu thereof, viz. a duty of 11s. 3d. upon every Ton of Blubber, containing 250 gallons, imported into Great Britain ; and 16s. 10d. upon every Ton of Train and Fish Oil, of the same quantity.--- Agreed to, and to be reported on Monday. On Thursday Col. Gibbs, of the 16th West India Regiment arrived in the Downs, it is supposed with dispatches from the Comman- ders in Chief at Martinique, relative to the insurrection of the Negro corps. The Dutch Papers which arrived yesterday, state that the British Government has under- taken to indemnify the Dutch East India Company for the detention of their ships ; and that the convoys which were captured in 1798, will probably be subjected to re- vision. Fourteen frigates have been ordered from Portsmouth to cruize on the coast of Sussex, to watch the smugglers. Admiral Sir A. Mitchell will shortly sail to take the command at Halifax. The Ville de Paris of 110 guns, at Ply- mouth is to be fitted up for the reception of the Lords of Admiralty, who are going to that Port. A gentleman in Birmingham has invented a new Barometer, upon a very simple prin- ciple ; but which, by certain combinations of wheel-machinery, points out the most mi- nute variation in the gravity of the atmos- phere, even to the 100,000th part of an inch ! A few days ago, a boy eight years of age, son of the late Capt. Wilson, fell into the water, at Hull Harbour, and was lost. His father and another son shared a similar fate, at the same place, about three years since. At Canterbury, prime meat sells --- beef, 12s. 6d. to 13s. per score : mutton, 5s. 4d. to 5s. 8d. ; veal, 5s. to 5s. 8d. ; and lamb, 5s 6d. to 6s. per stone. The Duke of YORK is to continue Com- mander in Chief, with three Lieutenants and four Major-Generals under him ; besides one Lieutenant-General for Scotland, and one for Ireland. At Morpeth fair, there was an unusual great shew of fat cattle, which were all sold \\\\--- beef from 7s. to 7s. 6d.--- mutton from 7s. 7d. to 8s. per stone. An inquisition was lately taken at Elford, on the body of a youth who was killed in a manner rather extraordinary. The verdict was, \"Death occasioned by the bite of an ass ;\" in consequence of which the animal was forfeited as a deodand. Last week died, at West Bromwich, at the advanced age of 102, Mr. J. Sheldon. He has left behind him nine children, 51 grand- children, 95 great grand- children, and five children of the fourth generation. The 12th and 22d Regiments of Light Dragoons are performing quarantine off Ply- mouth, where they have arrived from Egypt. The 3d Dragoon Guards are ordered from Norwich to York ; the 11th Light Dragoons now at that place are to leave the same ; and the 7th Dragoon Guards are ordered from Canterbury, and are to be quartered in the several villages in Surry, in the neighbour- hood of London. A very singular circumstance occurred to- wards the end of April at Baltimore, in Ame- rica : as the ship Birmingham, Capt. M\\'Car- thy, was entering the river, the mate blew out his brains in the forecastle ; and imme- diately afterwards, a young lady, a passenger in the ship, threw herself overboard, and was drowned. The mate had a wife and family on shore, and the father and brother of the young lady were on board the vessel. ']\n"
     ]
    }
   ],
   "source": [
    "print('List of column names : ',\n",
    "      list_of_column_names)"
   ]
  },
  {
   "cell_type": "code",
   "execution_count": 5,
   "id": "efa6dfdb",
   "metadata": {},
   "outputs": [
    {
     "name": "stderr",
     "output_type": "stream",
     "text": [
      "[nltk_data] Downloading package stopwords to\n",
      "[nltk_data]     C:\\Users\\emili\\AppData\\Roaming\\nltk_data...\n",
      "[nltk_data]   Package stopwords is already up-to-date!\n"
     ]
    }
   ],
   "source": [
    "nltk.download('stopwords')\n",
    "from nltk.corpus import stopwords \n",
    "stop_words = stopwords.words('english') \n",
    "stop_words.extend(['from', 'subject', 're', 'edu', 'use', 'rowe', 'rabin']) \n",
    "def sent_to_words(descriptions):\n",
    "    i = 0\n",
    "    for description in descriptions:\n",
    "        yield(gensim.utils.simple_preprocess(str(description), deacc=True)) \n",
    "        \n",
    "def remove_stopwords(texts):\n",
    "    return [[word for word in simple_preprocess(str(doc)) \n",
    "        if word not in stop_words] for doc in texts]"
   ]
  },
  {
   "cell_type": "code",
   "execution_count": 6,
   "id": "6f1f84a5",
   "metadata": {},
   "outputs": [
    {
     "name": "stdout",
     "output_type": "stream",
     "text": [
      "['london', 'paper', 'house', 'commons', 'house', 'resolved', 'committee', 'supply', 'upon', 'majesty', 'message', 'chancellor', 'exchequer', 'moved', 'annuity', 'lord', 'hutchinson', 'commence', 'sept', 'greed', 'mr', 'vansittart', 'stated', 'necessity', 'giv', 'ing', 'encouragement', 'fisheries', 'consequence', 'dutch', 'encouraging', 'therefore', 'moved', 'duties', 'imposed', 'present', 'session', 'upon', 'im', 'portation', 'blubber', 'train', 'fish', 'oil', 'cease', 'agreed', 'moved', 'following', 'duties', 'substi', 'tuted', 'lieu', 'thereof', 'viz', 'duty', 'upon', 'every', 'ton', 'blubber', 'containing', 'gallons', 'imported', 'great', 'britain', 'upon', 'every', 'ton', 'train', 'fish', 'oil', 'quantity', 'agreed', 'reported', 'monday', 'thursday', 'col', 'gibbs', 'th', 'west', 'india', 'regiment', 'arrived', 'downs', 'supposed', 'dispatches', 'comman', 'ders', 'chief', 'martinique', 'relative', 'insurrection', 'negro', 'corps', 'dutch', 'papers', 'arrived', 'yesterday', 'state', 'british', 'government', 'taken', 'indemnify', 'dutch', 'east', 'india', 'company', 'detention', 'ships', 'convoys', 'captured', 'probably', 'subjected', 'vision', 'fourteen', 'frigates', 'ordered', 'portsmouth', 'cruize', 'coast', 'sussex', 'watch', 'smugglers', 'admiral', 'sir', 'mitchell', 'shortly', 'sail', 'take', 'command', 'halifax', 'ville', 'de', 'paris', 'guns', 'ply', 'mouth', 'fitted', 'reception', 'lords', 'admiralty', 'going', 'port', 'gentleman', 'birmingham', 'invented', 'new', 'barometer', 'upon', 'simple', 'prin', 'ciple', 'certain', 'combinations', 'wheel', 'machinery', 'points', 'mi', 'nute', 'variation', 'gravity', 'atmos', 'phere', 'even', 'th', 'part', 'inch', 'days', 'ago', 'boy', 'eight', 'years', 'age', 'son', 'late', 'capt', 'wilson', 'fell', 'water', 'hull', 'harbour', 'lost', 'father', 'another', 'son', 'shared', 'similar', 'fate', 'place', 'three', 'years', 'since', 'canterbury', 'prime', 'meat', 'sells', 'beef', 'per', 'score', 'mutton', 'veal', 'lamb', 'per', 'stone', 'duke', 'york', 'continue', 'com', 'mander', 'chief', 'three', 'lieutenants', 'four', 'major', 'generals', 'besides', 'one', 'lieutenant', 'general', 'scotland', 'one', 'ireland', 'morpeth', 'fair', 'unusual', 'great', 'shew', 'fat', 'cattle', 'sold', 'beef', 'mutton', 'per', 'stone', 'inquisition', 'lately', 'taken', 'elford', 'body', 'youth', 'killed', 'manner', 'rather', 'extraordinary', 'verdict', 'death', 'occasioned', 'bite', 'ass', 'consequence', 'animal', 'forfeited', 'deodand', 'last', 'week', 'died', 'west', 'bromwich', 'advanced', 'age', 'mr', 'sheldon', 'left', 'behind', 'nine', 'children', 'grand', 'children', 'great', 'grand', 'children', 'five', 'children', 'fourth', 'generation', 'th', 'regiments', 'light', 'dragoons', 'performing', 'quarantine', 'ply', 'mouth', 'arrived', 'egypt', 'dragoon', 'guards', 'ordered', 'norwich', 'york', 'th', 'light', 'dragoons', 'place', 'leave', 'th', 'dragoon', 'guards', 'ordered', 'canterbury', 'quartered', 'several', 'villages', 'surry', 'neighbour', 'hood', 'london', 'singular', 'circumstance', 'occurred', 'wards', 'end', 'april', 'baltimore', 'ame', 'rica', 'ship', 'birmingham', 'capt', 'car', 'thy', 'entering', 'river', 'mate', 'blew', 'brains', 'forecastle', 'imme', 'diately', 'afterwards', 'young', 'lady', 'passenger', 'ship', 'threw', 'overboard', 'drowned', 'mate', 'wife', 'family', 'shore', 'father', 'brother', 'young', 'lady', 'board', 'vessel']\n"
     ]
    }
   ],
   "source": [
    "data_words = list(sent_to_words(data))\n",
    "data_words = remove_stopwords(data_words)\n",
    "\n",
    "print(data_words[0])"
   ]
  },
  {
   "cell_type": "code",
   "execution_count": 7,
   "id": "49267dcd",
   "metadata": {},
   "outputs": [
    {
     "name": "stdout",
     "output_type": "stream",
     "text": [
      "[(0, 1), (1, 1), (2, 1), (3, 1), (4, 2), (5, 1), (6, 2), (7, 1), (8, 1), (9, 1), (10, 1), (11, 1), (12, 3), (13, 1), (14, 1), (15, 1), (16, 1), (17, 2), (18, 1), (19, 1), (20, 2), (21, 1), (22, 1), (23, 2), (24, 1), (25, 1), (26, 1), (27, 1), (28, 1), (29, 1), (30, 1), (31, 1), (32, 2), (33, 2), (34, 1), (35, 1), (36, 1), (37, 1), (38, 1), (39, 1), (40, 2), (41, 4), (42, 1), (43, 1), (44, 1), (45, 1), (46, 1), (47, 1), (48, 1), (49, 1), (50, 1), (51, 1), (52, 1), (53, 1), (54, 2), (55, 1), (56, 1), (57, 1), (58, 1), (59, 1), (60, 1), (61, 1), (62, 1), (63, 1), (64, 1), (65, 1), (66, 1), (67, 1), (68, 1), (69, 1), (70, 2), (71, 2), (72, 1), (73, 1), (74, 3), (75, 2), (76, 1), (77, 1), (78, 1), (79, 1), (80, 1), (81, 1), (82, 1), (83, 1), (84, 1), (85, 1), (86, 2), (87, 1), (88, 1), (89, 1), (90, 1), (91, 1), (92, 1), (93, 2), (94, 1), (95, 2), (96, 1), (97, 1), (98, 1), (99, 1), (100, 1), (101, 1), (102, 1), (103, 1), (104, 1), (105, 1), (106, 1), (107, 1), (108, 1), (109, 1), (110, 1), (111, 1), (112, 1), (113, 1), (114, 1), (115, 2), (116, 1), (117, 3), (118, 1), (119, 2), (120, 1), (121, 1), (122, 1), (123, 1), (124, 2), (125, 1), (126, 1), (127, 1), (128, 1), (129, 1), (130, 1), (131, 1), (132, 1), (133, 2), (134, 1), (135, 1), (136, 1), (137, 1), (138, 1), (139, 1), (140, 2), (141, 1), (142, 1), (143, 1), (144, 1), (145, 1), (146, 1), (147, 1), (148, 1), (149, 1), (150, 2), (151, 2), (152, 1), (153, 1), (154, 1), (155, 1), (156, 1), (157, 1), (158, 1), (159, 1), (160, 1), (161, 2), (162, 1), (163, 1), (164, 1), (165, 1), (166, 1), (167, 1), (168, 2), (169, 3), (170, 2), (171, 2), (172, 1), (173, 1), (174, 1), (175, 1), (176, 1), (177, 1), (178, 1), (179, 1), (180, 1), (181, 2), (182, 2), (183, 3), (184, 1), (185, 1), (186, 1), (187, 1), (188, 1), (189, 1), (190, 3), (191, 1), (192, 1), (193, 2), (194, 2), (195, 1), (196, 1), (197, 1), (198, 1), (199, 1), (200, 1), (201, 1), (202, 1), (203, 1), (204, 1), (205, 1), (206, 1), (207, 1), (208, 1), (209, 1), (210, 1), (211, 1), (212, 1), (213, 1), (214, 1), (215, 1), (216, 1), (217, 1), (218, 1), (219, 1), (220, 1), (221, 1), (222, 1), (223, 1), (224, 1), (225, 2), (226, 1), (227, 1), (228, 1), (229, 1), (230, 1), (231, 1), (232, 1), (233, 1), (234, 1), (235, 1), (236, 2), (237, 1), (238, 1), (239, 2), (240, 1), (241, 1), (242, 1), (243, 1), (244, 1), (245, 1), (246, 1), (247, 2), (248, 5), (249, 1), (250, 1), (251, 2), (252, 1), (253, 1), (254, 1), (255, 2), (256, 2), (257, 1), (258, 1), (259, 5), (260, 1), (261, 1), (262, 1), (263, 1), (264, 1), (265, 1), (266, 1), (267, 1), (268, 1), (269, 1), (270, 1), (271, 1), (272, 1), (273, 2), (274, 1), (275, 1), (276, 1), (277, 2), (278, 1), (279, 2), (280, 2), (281, 1)]\n"
     ]
    }
   ],
   "source": [
    "import gensim.corpora as corpora\n",
    "\n",
    "id2word = corpora.Dictionary(data_words)\n",
    "\n",
    "texts = data_words\n",
    "\n",
    "corpus = [id2word.doc2bow(text) for text in texts]\n",
    "\n",
    "print(corpus[0])"
   ]
  },
  {
   "cell_type": "code",
   "execution_count": 8,
   "id": "aeb3b432",
   "metadata": {},
   "outputs": [
    {
     "name": "stdout",
     "output_type": "stream",
     "text": [
      "[(0,\n",
      "  '0.010*\"th\" + 0.008*\"upon\" + 0.007*\"children\" + 0.007*\"moved\" + '\n",
      "  '0.007*\"dutch\" + 0.007*\"per\" + 0.006*\"great\" + 0.006*\"ordered\" + '\n",
      "  '0.006*\"arrived\" + 0.006*\"young\"'),\n",
      " (1,\n",
      "  '0.011*\"upon\" + 0.010*\"th\" + 0.009*\"children\" + 0.007*\"ordered\" + '\n",
      "  '0.007*\"per\" + 0.007*\"great\" + 0.007*\"moved\" + 0.007*\"arrived\" + '\n",
      "  '0.007*\"dutch\" + 0.005*\"ship\"'),\n",
      " (2,\n",
      "  '0.010*\"upon\" + 0.009*\"th\" + 0.008*\"children\" + 0.007*\"arrived\" + '\n",
      "  '0.006*\"great\" + 0.006*\"dutch\" + 0.006*\"moved\" + 0.006*\"per\" + '\n",
      "  '0.006*\"ordered\" + 0.005*\"every\"')]\n"
     ]
    }
   ],
   "source": [
    "from pprint import pprint\n",
    "num_topics = 3\n",
    "lda_model = gensim.models.LdaMulticore(corpus=corpus,\n",
    "                                       id2word=id2word,\n",
    "                                       num_topics=num_topics,\n",
    "                                       random_state=0)\n",
    "pprint(lda_model.print_topics())\n",
    "doc_lda = lda_model[corpus]"
   ]
  },
  {
   "cell_type": "code",
   "execution_count": 9,
   "id": "32ebc175",
   "metadata": {},
   "outputs": [
    {
     "data": {
      "text/plain": [
       "'./ldavis_prepared_3'"
      ]
     },
     "execution_count": 9,
     "metadata": {},
     "output_type": "execute_result"
    }
   ],
   "source": [
    "import pyLDAvis.gensim_models\n",
    "import pickle \n",
    "import pyLDAvis\n",
    "\n",
    "pyLDAvis.enable_notebook()\n",
    "LDAvis_data_filepath = os.path.join('./ldavis_prepared_'+str(num_topics))\n",
    "LDAvis_data_filepath"
   ]
  },
  {
   "cell_type": "code",
   "execution_count": 10,
   "id": "38c81a25",
   "metadata": {},
   "outputs": [],
   "source": [
    "if 1 == 1:\n",
    "    LDAvis_prepared = pyLDAvis.gensim_models.prepare(lda_model, corpus, id2word)\n",
    "    with open(LDAvis_data_filepath, 'wb') as f:\n",
    "        pickle.dump(LDAvis_prepared, f)"
   ]
  },
  {
   "cell_type": "code",
   "execution_count": 11,
   "id": "1c60adb4",
   "metadata": {},
   "outputs": [
    {
     "data": {
      "text/html": [
       "\n",
       "<link rel=\"stylesheet\" type=\"text/css\" href=\"https://cdn.jsdelivr.net/gh/bmabey/pyLDAvis@3.4.0/pyLDAvis/js/ldavis.v1.0.0.css\">\n",
       "\n",
       "\n",
       "<div id=\"ldavis_el3521623296760587364739842552\" style=\"background-color:white;\"></div>\n",
       "<script type=\"text/javascript\">\n",
       "\n",
       "var ldavis_el3521623296760587364739842552_data = {\"mdsDat\": {\"x\": [-0.0001710127511427823, -0.00038193027646608483, 0.0005529430276088671], \"y\": [-0.0004802687585357424, 0.00037191493390633295, 0.00010835382462940943], \"topics\": [1, 2, 3], \"cluster\": [1, 1, 1], \"Freq\": [74.23880892482234, 25.644699416745777, 0.11649165843189768]}, \"tinfo\": {\"Term\": [\"upon\", \"th\", \"children\", \"arrived\", \"great\", \"dutch\", \"moved\", \"ordered\", \"per\", \"every\", \"west\", \"light\", \"three\", \"father\", \"mouth\", \"place\", \"canterbury\", \"capt\", \"ton\", \"blubber\", \"mr\", \"guards\", \"dragoon\", \"london\", \"india\", \"ply\", \"fish\", \"beef\", \"birmingham\", \"one\", \"upon\", \"west\", \"fourteen\", \"ordered\", \"performing\", \"new\", \"boy\", \"father\", \"ship\", \"phere\", \"vessel\", \"children\", \"east\", \"combinations\", \"imme\", \"thy\", \"besides\", \"behind\", \"imposed\", \"three\", \"scotland\", \"april\", \"killed\", \"paper\", \"elford\", \"britain\", \"morpeth\", \"following\", \"state\", \"arrived\", \"light\", \"great\", \"per\", \"mouth\", \"every\", \"th\", \"moved\", \"train\", \"dutch\", \"one\", \"dragoon\", \"agreed\", \"years\", \"grand\", \"blubber\", \"london\", \"stone\", \"duties\", \"chief\", \"mutton\", \"lady\", \"ton\", \"consequence\", \"taken\", \"son\", \"end\", \"barometer\", \"young\", \"fair\", \"shared\", \"gentleman\", \"fell\", \"admiral\", \"downs\", \"imported\", \"shore\", \"yesterday\", \"insurrection\", \"dragoons\", \"ply\", \"son\", \"manner\", \"york\", \"reported\", \"atmos\", \"ago\", \"age\", \"india\", \"mate\", \"frigates\", \"government\", \"lamb\", \"birmingham\", \"days\", \"watch\", \"house\", \"mr\", \"fish\", \"th\", \"place\", \"taken\", \"dutch\", \"moved\", \"oil\", \"canterbury\", \"per\", \"consequence\", \"mutton\", \"beef\", \"great\", \"lady\", \"duties\", \"children\", \"chief\", \"arrived\", \"stone\", \"upon\", \"ordered\", \"grand\", \"agreed\", \"simple\", \"smugglers\", \"inch\", \"continue\", \"fisheries\", \"ago\", \"several\", \"mitchell\", \"frigates\", \"wilson\", \"car\", \"harbour\", \"forfeited\", \"portsmouth\", \"every\", \"unusual\", \"lords\", \"barometer\", \"fate\", \"prin\", \"indemnify\", \"fell\", \"lieutenants\", \"late\", \"imported\", \"sells\", \"corps\", \"insurrection\", \"end\", \"extraordinary\", \"light\", \"place\", \"mr\", \"upon\", \"canterbury\", \"arrived\", \"capt\", \"ton\", \"india\", \"th\", \"children\", \"mouth\", \"three\", \"ply\", \"guards\", \"blubber\", \"west\", \"great\", \"fish\", \"birmingham\", \"dutch\", \"father\", \"moved\", \"london\", \"age\", \"dragoon\", \"mate\", \"per\", \"beef\", \"ordered\"], \"Freq\": [3.0, 3.0, 2.0, 2.0, 2.0, 2.0, 2.0, 2.0, 2.0, 1.0, 1.0, 1.0, 1.0, 1.0, 1.0, 1.0, 1.0, 1.0, 1.0, 1.0, 1.0, 1.0, 1.0, 1.0, 1.0, 1.0, 1.0, 1.0, 1.0, 1.0, 2.7945524037873364, 1.3626185477868902, 0.8968872051258087, 1.9045174501992899, 0.9112897079892184, 0.8955880320136296, 0.8805830400864584, 1.3137184923874479, 1.3681115208413117, 0.8826110730576866, 0.8610983141080668, 2.220529004582501, 0.8789090008385182, 0.8642562682507906, 0.8967287183262287, 0.8657798945549786, 0.8775354286400459, 0.8613894513685781, 0.8680634202083976, 1.277740433917981, 0.8339449202518885, 0.8860094486850563, 0.8634446962242626, 0.8637303313015432, 0.84404489524791, 0.8782929357356983, 0.8695955988191288, 0.8466618412438415, 0.8882508706754926, 1.6904283379815461, 1.2370265506517084, 1.7201703894350893, 1.744025822507858, 1.2534642034407426, 1.212898520283662, 2.507770001690424, 1.7019196476588607, 1.3062820525258003, 1.6816016399527156, 1.2751032135729712, 1.2592678106223407, 1.2921688329263787, 1.2671964566577778, 1.2938713997982432, 1.2348783069381573, 1.2405417280600515, 1.2762523325794348, 1.269177960296903, 1.2556614883526542, 1.2752937565705038, 1.2531030927630582, 1.2067558111573025, 1.227284815629077, 1.23444387368829, 1.253340284705373, 0.31015018014353013, 0.3073250943154719, 0.4911738138023677, 0.3053896149931653, 0.3063999746171937, 0.3181847352292307, 0.298450432205866, 0.3045409550537823, 0.30220495550837345, 0.2954227414452259, 0.2958486931633836, 0.3045911569489769, 0.29383206444012033, 0.4659068900626632, 0.4504379301198235, 0.4856678021564027, 0.30019256192441673, 0.4634723253971006, 0.2923747013566983, 0.30652895010349007, 0.2863704720545548, 0.45251529693850745, 0.4453897267032879, 0.45286604910995376, 0.28660714403453413, 0.30241685708821353, 0.3050659057356324, 0.44819946273376193, 0.3005758936796993, 0.2921681091954035, 0.4593396558025591, 0.4352537368121126, 0.4441478185848803, 0.8859190835830895, 0.42846611003433915, 0.4486283067421777, 0.5864795294273761, 0.5877838696969271, 0.4392887709512262, 0.4270013716107589, 0.583817506792228, 0.4389113683909728, 0.4519673732083213, 0.4358404585501899, 0.5634943334723085, 0.4436353047511401, 0.447635135585969, 0.6628614443962118, 0.44105616689110333, 0.5323866774669093, 0.44392626915110767, 0.7060309424203766, 0.5358229248857259, 0.44124763650619137, 0.43716145014794117, 0.0014894678539567356, 0.0014435928607665503, 0.0014213337695445501, 0.001426382629562863, 0.0014304575663605429, 0.0014010184894296005, 0.0014252841740514438, 0.0014076480743205613, 0.0013893341322864766, 0.0014129658940565783, 0.0014022921535219526, 0.0013933873908933715, 0.0013820694045590114, 0.001384925107353756, 0.0021163017496217797, 0.0013973136772399545, 0.0013894784658684128, 0.001344553934653422, 0.0013800213316772334, 0.0013926988502622497, 0.001381884060720049, 0.0013526252599990545, 0.0013892111953603802, 0.0013751306942981563, 0.0013556048381697132, 0.0013901791125021808, 0.0013718810302700126, 0.0013516922531904658, 0.0013279632680192682, 0.0013731601373713062, 0.002074009757834925, 0.0020159803379880144, 0.002002193759408641, 0.003958307755876912, 0.0019912182134126976, 0.0026361990070443058, 0.0019754389304907807, 0.0019713975901965684, 0.0019402917325447105, 0.003558441420845884, 0.0031139585538299793, 0.0019833682683790205, 0.0019922752832871636, 0.0019272221296259304, 0.0019499975559375353, 0.00195468248511661, 0.0020035280473592056, 0.002423351268519868, 0.00190064504310351, 0.001896055272735933, 0.00237572775562966, 0.0019498892588285925, 0.0023322908550654185, 0.001900348680651134, 0.001871746982492374, 0.001895176320636834, 0.001863245377905404, 0.0022762839822652496, 0.0018760751130508235, 0.002230828100763573], \"Total\": [3.0, 3.0, 2.0, 2.0, 2.0, 2.0, 2.0, 2.0, 2.0, 1.0, 1.0, 1.0, 1.0, 1.0, 1.0, 1.0, 1.0, 1.0, 1.0, 1.0, 1.0, 1.0, 1.0, 1.0, 1.0, 1.0, 1.0, 1.0, 1.0, 1.0, 3.50454165396359, 1.7251631210223561, 1.146750500744221, 2.4425712031857794, 1.172909940880864, 1.1568995510131044, 1.1408666236325413, 1.7040369777764726, 1.7761748090002236, 1.1469131753206299, 1.1193241582751874, 2.886504407532543, 1.1437702589995455, 1.1266917174088777, 1.1692316161623129, 1.1312497766213676, 1.1466955230410922, 1.1265364564315752, 1.136112867282852, 1.6725631175573805, 1.0920678144314875, 1.1606628638520895, 1.1313056630216123, 1.1325262091038095, 1.1067980221371507, 1.151729472038991, 1.1404024583731904, 1.1120117185762675, 1.16847556311364, 2.2254512144555, 1.6303688427972411, 2.2860880741759178, 2.3301196132823514, 1.6586296934912332, 1.6065656811792004, 3.39724752669436, 2.292035808210853, 1.7412637109227087, 2.2704568971357215, 1.7001901209322454, 1.6795366567137422, 1.7310698255633878, 1.696008895542075, 1.7368346014006646, 1.65220570145907, 1.6664434822588672, 1.7219124193003434, 1.7185407484004418, 1.6985034248323871, 1.7289555459699673, 1.698515634341707, 1.6308038777357443, 1.6680443269250416, 1.6848576795578598, 1.740570027253651, 1.027288677834074, 1.0232936847040213, 1.6377942245852763, 1.0476102605350233, 1.0529067215190502, 1.0988362734382244, 1.0350084289385666, 1.0611604931245688, 1.0616487432780968, 1.0388775346997867, 1.049783806851069, 1.081888795702148, 1.0439319148996251, 1.658044467296482, 1.6034941301697434, 1.740570027253651, 1.0764781320163903, 1.6639872176340462, 1.0508692664517318, 1.1019302558049258, 1.0303487708380517, 1.6302567083508104, 1.6054809782852875, 1.6343227408380636, 1.0363524862052689, 1.0944394914103768, 1.1042838864356224, 1.624743817371772, 1.0925227588897104, 1.0624763557552779, 1.6726422270457393, 1.5898304277166626, 1.6295838654249473, 3.39724752669436, 1.5946110526892576, 1.6848576795578598, 2.2704568971357215, 2.292035808210853, 1.661121602014857, 1.610906402532905, 2.3301196132823514, 1.6680443269250416, 1.7289555459699673, 1.6582660789545476, 2.2860880741759178, 1.698515634341707, 1.7185407484004418, 2.886504407532543, 1.6985034248323871, 2.2254512144555, 1.7219124193003434, 3.50454165396359, 2.4425712031857794, 1.7368346014006646, 1.7310698255633878, 1.0320237158702283, 1.0440565532176689, 1.0393301134242983, 1.0445114173125054, 1.048275375065518, 1.0303487708380517, 1.0505434783659693, 1.0471762667342834, 1.0363524862052689, 1.0580923747023852, 1.0567679251572502, 1.0514320290695038, 1.0432945499329769, 1.0467952795370905, 1.6065656811792004, 1.0609053959592747, 1.0566498990112676, 1.0232936847040213, 1.051205413889997, 1.0614229521396725, 1.0561653634845034, 1.0350084289385666, 1.0635458687969637, 1.0534174293119831, 1.0388775346997867, 1.0661899735946303, 1.0546795948560814, 1.0439319148996251, 1.027288677834074, 1.0623277939897084, 1.6303688427972411, 1.5946110526892576, 1.5898304277166626, 3.50454165396359, 1.610906402532905, 2.2254512144555, 1.6262977617759824, 1.6308038777357443, 1.6054809782852875, 3.39724752669436, 2.886504407532543, 1.6586296934912332, 1.6725631175573805, 1.6034941301697434, 1.6368756742628006, 1.65220570145907, 1.7251631210223561, 2.2860880741759178, 1.6295838654249473, 1.624743817371772, 2.2704568971357215, 1.7040369777764726, 2.292035808210853, 1.6664434822588672, 1.6302567083508104, 1.6795366567137422, 1.6343227408380636, 2.3301196132823514, 1.6582660789545476, 2.4425712031857794], \"Category\": [\"Default\", \"Default\", \"Default\", \"Default\", \"Default\", \"Default\", \"Default\", \"Default\", \"Default\", \"Default\", \"Default\", \"Default\", \"Default\", \"Default\", \"Default\", \"Default\", \"Default\", \"Default\", \"Default\", \"Default\", \"Default\", \"Default\", \"Default\", \"Default\", \"Default\", \"Default\", \"Default\", \"Default\", \"Default\", \"Default\", \"Topic1\", \"Topic1\", \"Topic1\", \"Topic1\", \"Topic1\", \"Topic1\", \"Topic1\", \"Topic1\", \"Topic1\", \"Topic1\", \"Topic1\", \"Topic1\", \"Topic1\", \"Topic1\", \"Topic1\", \"Topic1\", \"Topic1\", \"Topic1\", \"Topic1\", \"Topic1\", \"Topic1\", \"Topic1\", \"Topic1\", \"Topic1\", \"Topic1\", \"Topic1\", \"Topic1\", \"Topic1\", \"Topic1\", \"Topic1\", \"Topic1\", \"Topic1\", \"Topic1\", \"Topic1\", \"Topic1\", \"Topic1\", \"Topic1\", \"Topic1\", \"Topic1\", \"Topic1\", \"Topic1\", \"Topic1\", \"Topic1\", \"Topic1\", \"Topic1\", \"Topic1\", \"Topic1\", \"Topic1\", \"Topic1\", \"Topic1\", \"Topic1\", \"Topic1\", \"Topic1\", \"Topic1\", \"Topic1\", \"Topic2\", \"Topic2\", \"Topic2\", \"Topic2\", \"Topic2\", \"Topic2\", \"Topic2\", \"Topic2\", \"Topic2\", \"Topic2\", \"Topic2\", \"Topic2\", \"Topic2\", \"Topic2\", \"Topic2\", \"Topic2\", \"Topic2\", \"Topic2\", \"Topic2\", \"Topic2\", \"Topic2\", \"Topic2\", \"Topic2\", \"Topic2\", \"Topic2\", \"Topic2\", \"Topic2\", \"Topic2\", \"Topic2\", \"Topic2\", \"Topic2\", \"Topic2\", \"Topic2\", \"Topic2\", \"Topic2\", \"Topic2\", \"Topic2\", \"Topic2\", \"Topic2\", \"Topic2\", \"Topic2\", \"Topic2\", \"Topic2\", \"Topic2\", \"Topic2\", \"Topic2\", \"Topic2\", \"Topic2\", \"Topic2\", \"Topic2\", \"Topic2\", \"Topic2\", \"Topic2\", \"Topic2\", \"Topic2\", \"Topic3\", \"Topic3\", \"Topic3\", \"Topic3\", \"Topic3\", \"Topic3\", \"Topic3\", \"Topic3\", \"Topic3\", \"Topic3\", \"Topic3\", \"Topic3\", \"Topic3\", \"Topic3\", \"Topic3\", \"Topic3\", \"Topic3\", \"Topic3\", \"Topic3\", \"Topic3\", \"Topic3\", \"Topic3\", \"Topic3\", \"Topic3\", \"Topic3\", \"Topic3\", \"Topic3\", \"Topic3\", \"Topic3\", \"Topic3\", \"Topic3\", \"Topic3\", \"Topic3\", \"Topic3\", \"Topic3\", \"Topic3\", \"Topic3\", \"Topic3\", \"Topic3\", \"Topic3\", \"Topic3\", \"Topic3\", \"Topic3\", \"Topic3\", \"Topic3\", \"Topic3\", \"Topic3\", \"Topic3\", \"Topic3\", \"Topic3\", \"Topic3\", \"Topic3\", \"Topic3\", \"Topic3\", \"Topic3\", \"Topic3\", \"Topic3\", \"Topic3\", \"Topic3\", \"Topic3\"], \"logprob\": [30.0, 29.0, 28.0, 27.0, 26.0, 25.0, 24.0, 23.0, 22.0, 21.0, 20.0, 19.0, 18.0, 17.0, 16.0, 15.0, 14.0, 13.0, 12.0, 11.0, 10.0, 9.0, 8.0, 7.0, 6.0, 5.0, 4.0, 3.0, 2.0, 1.0, -4.5209, -5.2391, -5.6574, -4.9043, -5.6415, -5.6588, -5.6757, -5.2757, -5.2351, -5.6734, -5.6981, -4.7508, -5.6776, -5.6944, -5.6576, -5.6927, -5.6792, -5.6978, -5.69, -5.3035, -5.7301, -5.6696, -5.6954, -5.6951, -5.7181, -5.6783, -5.6883, -5.715, -5.6671, -5.0236, -5.3358, -5.0061, -4.9924, -5.3226, -5.3555, -4.6292, -5.0168, -5.2814, -5.0288, -5.3055, -5.318, -5.2922, -5.3117, -5.2909, -5.3376, -5.333, -5.3046, -5.3102, -5.3209, -5.3054, -5.3229, -5.3606, -5.3438, -5.3379, -5.3227, -5.6563, -5.6655, -5.1966, -5.6718, -5.6685, -5.6307, -5.6948, -5.6746, -5.6823, -5.705, -5.7035, -5.6744, -5.7104, -5.2494, -5.2831, -5.2078, -5.6889, -5.2546, -5.7153, -5.668, -5.7361, -5.2785, -5.2944, -5.2778, -5.7352, -5.6816, -5.6728, -5.2881, -5.6877, -5.716, -5.2636, -5.3174, -5.2972, -4.6067, -5.3331, -5.2872, -5.0192, -5.017, -5.3082, -5.3366, -5.0238, -5.3091, -5.2798, -5.3161, -5.0592, -5.2984, -5.2894, -4.8968, -5.3042, -5.116, -5.2977, -4.8337, -5.1096, -5.3038, -5.3131, -5.6007, -5.632, -5.6475, -5.6439, -5.6411, -5.6619, -5.6447, -5.6572, -5.6703, -5.6534, -5.661, -5.6674, -5.6755, -5.6734, -5.2494, -5.6645, -5.6702, -5.703, -5.677, -5.6678, -5.6756, -5.697, -5.6704, -5.6805, -5.6948, -5.6697, -5.6829, -5.6977, -5.7154, -5.682, -5.2696, -5.298, -5.3048, -4.6233, -5.3103, -5.0298, -5.3183, -5.3203, -5.3362, -4.7298, -4.8632, -5.3143, -5.3098, -5.343, -5.3313, -5.3289, -5.3042, -5.1139, -5.3569, -5.3593, -5.1338, -5.3313, -5.1522, -5.3571, -5.3722, -5.3598, -5.3768, -5.1765, -5.3699, -5.1967], \"loglift\": [30.0, 29.0, 28.0, 27.0, 26.0, 25.0, 24.0, 23.0, 22.0, 21.0, 20.0, 19.0, 18.0, 17.0, 16.0, 15.0, 14.0, 13.0, 12.0, 11.0, 10.0, 9.0, 8.0, 7.0, 6.0, 5.0, 4.0, 3.0, 2.0, 1.0, 0.0715, 0.062, 0.0521, 0.0491, 0.0455, 0.0419, 0.0389, 0.0377, 0.0369, 0.0359, 0.0356, 0.0356, 0.0345, 0.0327, 0.0325, 0.0304, 0.0304, 0.0295, 0.0288, 0.0286, 0.0282, 0.0279, 0.0277, 0.0269, 0.0269, 0.0268, 0.0268, 0.0253, 0.0237, 0.0229, 0.0218, 0.0135, 0.0082, 0.0178, 0.0168, -0.0057, 0.0002, 0.0105, -0.0024, 0.0102, 0.0099, 0.0055, 0.0064, 0.0035, 0.0067, 0.0027, -0.0016, -0.0052, -0.0042, -0.0065, -0.0062, -0.0033, -0.009, -0.0132, -0.0305, 0.1632, 0.158, 0.1565, 0.1282, 0.1264, 0.1215, 0.1173, 0.1125, 0.1044, 0.1033, 0.0943, 0.0933, 0.0931, 0.0914, 0.0911, 0.0844, 0.0838, 0.0826, 0.0815, 0.0813, 0.0805, 0.0792, 0.0786, 0.0774, 0.0755, 0.0746, 0.0744, 0.073, 0.0703, 0.0698, 0.0685, 0.0654, 0.0609, 0.0167, 0.0467, 0.0376, 0.0072, -0.0, 0.0307, 0.0331, -0.0233, 0.0257, 0.0192, 0.0246, -0.0396, 0.0183, 0.0156, -0.1104, 0.0125, -0.0695, 0.0053, -0.2413, -0.1562, -0.0094, -0.0154, 0.2142, 0.1714, 0.1604, 0.1589, 0.1582, 0.1547, 0.1524, 0.1432, 0.1405, 0.1366, 0.1302, 0.1289, 0.1285, 0.1273, 0.1229, 0.1228, 0.1212, 0.1204, 0.1195, 0.119, 0.1162, 0.115, 0.1145, 0.1139, 0.1135, 0.1127, 0.1103, 0.1057, 0.1041, 0.104, 0.088, 0.0818, 0.078, -0.0309, 0.0593, 0.0167, 0.0418, 0.037, 0.0368, -0.1063, -0.0768, 0.0262, 0.0223, 0.0312, 0.0224, 0.0155, -0.0031, -0.0943, 0.0012, 0.0018, -0.1073, -0.0179, -0.1352, -0.0213, -0.0145, -0.0319, -0.0216, -0.176, -0.0292, -0.2433]}, \"token.table\": {\"Topic\": [1, 1, 1, 1, 1, 1, 2, 1, 1, 1, 1, 1, 1, 1, 1, 1, 1, 1, 1, 1, 1, 2, 1, 1, 1, 1, 1, 1, 1, 1, 1, 2, 1, 1, 1, 1, 1, 1, 1, 1, 1, 1, 1, 1, 1, 1, 1, 1, 1, 1, 1, 1, 2, 1, 1, 1, 1, 1, 1, 1, 1, 1, 1, 1, 1, 1, 1, 1, 1, 1, 1, 1, 1, 1, 1, 1, 1, 2, 1, 1, 1, 1, 1, 1, 2, 1, 1, 2, 1, 1, 1, 1, 1, 1, 1, 1, 1, 1, 1, 1, 1, 1, 1, 1, 1, 1, 1, 1, 2, 1, 1, 1, 1, 1, 1, 2, 1, 1, 1, 1, 1, 1, 1, 1], \"Freq\": [0.9423645211814446, 0.6134003282290514, 0.970545147723749, 0.5776774484960729, 0.8615766310305903, 0.8986941555981666, 0.4493470777990833, 0.9074984507703994, 0.9772365596971716, 0.6030395318889048, 0.8876765543545808, 0.8720710772009918, 0.6154816465882148, 0.6052515126396766, 0.8765266502546816, 0.8682594517874296, 0.6207685303302863, 0.6148935474817108, 0.9462815592659071, 0.5887535964778421, 0.6928795933173894, 0.3464397966586947, 0.8875542302731767, 0.5995044519251184, 0.9573854181249336, 0.9481552548065151, 0.9153127400442095, 0.9419311296053143, 0.5954023069413951, 0.6031201332196754, 0.8808799684869972, 0.4404399842434986, 0.5818890247035255, 0.8743014535757371, 0.9035072163113094, 0.9734362127969626, 0.6224457622336435, 0.9413290376639508, 0.9545534610259465, 0.9512888601852697, 0.5868417252921698, 0.9661757064389622, 0.6136535966126724, 0.953947811601984, 0.8992710987617303, 0.9585020836773678, 0.872029268224446, 0.9649226622320578, 0.9100536851327552, 0.9137097188546486, 0.5757600632746223, 0.8748569325007104, 0.4374284662503552, 0.6109199468984533, 0.9510838288662177, 0.5978564834909279, 0.8552625383858761, 0.9625773650875784, 0.880194238440075, 0.9621582085265319, 0.9468214302169478, 0.6228663020772981, 0.9579168772669919, 0.8839344066652093, 0.5887493643163135, 0.9055642414812127, 0.9492912991321288, 0.940250937301986, 0.6133581394283084, 0.6000803571474852, 0.946387257440448, 0.9289552386232535, 0.6118742491995249, 0.9549490680481071, 0.8768834130948142, 0.6029073300232012, 0.8725867165056141, 0.4362933582528071, 0.6289978997547647, 0.5783838701526514, 0.8643792791900503, 0.6020028869572525, 0.5881695156843293, 0.8188092930070797, 0.40940464650353986, 0.8829817729263147, 0.8583250355902011, 0.42916251779510056, 0.8525803773553088, 0.8719055823213828, 0.6271121715314426, 0.6236380796069029, 0.9552966272853426, 0.9421315018524398, 0.9515931542812244, 0.9156940501177425, 0.9379191558409872, 0.9518882565007348, 0.9497517487183285, 0.5630076470698747, 0.9525770863237065, 0.9689699806527943, 0.957802522208312, 0.5745244284011052, 0.8558159293766463, 0.5807496297670733, 0.5935219408338512, 0.8830678295964806, 0.29435594319882685, 0.5978847611206476, 0.8839780751043655, 0.6131945193731261, 0.5742955496787402, 0.9425911149182121, 0.8560320567475749, 0.2853440189158583, 0.893396245052855, 0.9411974154371976, 0.5796553310317611, 0.9450970670507619, 0.5896195489472253, 0.9243094151381779, 0.6009661549094458, 0.6105773148963332], \"Term\": [\"admiral\", \"age\", \"ago\", \"agreed\", \"april\", \"arrived\", \"arrived\", \"atmos\", \"barometer\", \"beef\", \"behind\", \"besides\", \"birmingham\", \"blubber\", \"boy\", \"britain\", \"canterbury\", \"capt\", \"car\", \"chief\", \"children\", \"children\", \"combinations\", \"consequence\", \"continue\", \"corps\", \"days\", \"downs\", \"dragoon\", \"dragoons\", \"dutch\", \"dutch\", \"duties\", \"east\", \"elford\", \"end\", \"every\", \"extraordinary\", \"fair\", \"fate\", \"father\", \"fell\", \"fish\", \"fisheries\", \"following\", \"forfeited\", \"fourteen\", \"frigates\", \"gentleman\", \"government\", \"grand\", \"great\", \"great\", \"guards\", \"harbour\", \"house\", \"imme\", \"imported\", \"imposed\", \"inch\", \"indemnify\", \"india\", \"insurrection\", \"killed\", \"lady\", \"lamb\", \"late\", \"lieutenants\", \"light\", \"london\", \"lords\", \"manner\", \"mate\", \"mitchell\", \"morpeth\", \"mouth\", \"moved\", \"moved\", \"mr\", \"mutton\", \"new\", \"oil\", \"one\", \"ordered\", \"ordered\", \"paper\", \"per\", \"per\", \"performing\", \"phere\", \"place\", \"ply\", \"portsmouth\", \"prin\", \"reported\", \"scotland\", \"sells\", \"several\", \"shared\", \"ship\", \"shore\", \"simple\", \"smugglers\", \"son\", \"state\", \"stone\", \"taken\", \"th\", \"th\", \"three\", \"thy\", \"ton\", \"train\", \"unusual\", \"upon\", \"upon\", \"vessel\", \"watch\", \"west\", \"wilson\", \"years\", \"yesterday\", \"york\", \"young\"]}, \"R\": 30, \"lambda.step\": 0.01, \"plot.opts\": {\"xlab\": \"PC1\", \"ylab\": \"PC2\"}, \"topic.order\": [2, 1, 3]};\n",
       "\n",
       "function LDAvis_load_lib(url, callback){\n",
       "  var s = document.createElement('script');\n",
       "  s.src = url;\n",
       "  s.async = true;\n",
       "  s.onreadystatechange = s.onload = callback;\n",
       "  s.onerror = function(){console.warn(\"failed to load library \" + url);};\n",
       "  document.getElementsByTagName(\"head\")[0].appendChild(s);\n",
       "}\n",
       "\n",
       "if(typeof(LDAvis) !== \"undefined\"){\n",
       "   // already loaded: just create the visualization\n",
       "   !function(LDAvis){\n",
       "       new LDAvis(\"#\" + \"ldavis_el3521623296760587364739842552\", ldavis_el3521623296760587364739842552_data);\n",
       "   }(LDAvis);\n",
       "}else if(typeof define === \"function\" && define.amd){\n",
       "   // require.js is available: use it to load d3/LDAvis\n",
       "   require.config({paths: {d3: \"https://d3js.org/d3.v5\"}});\n",
       "   require([\"d3\"], function(d3){\n",
       "      window.d3 = d3;\n",
       "      LDAvis_load_lib(\"https://cdn.jsdelivr.net/gh/bmabey/pyLDAvis@3.4.0/pyLDAvis/js/ldavis.v3.0.0.js\", function(){\n",
       "        new LDAvis(\"#\" + \"ldavis_el3521623296760587364739842552\", ldavis_el3521623296760587364739842552_data);\n",
       "      });\n",
       "    });\n",
       "}else{\n",
       "    // require.js not available: dynamically load d3 & LDAvis\n",
       "    LDAvis_load_lib(\"https://d3js.org/d3.v5.js\", function(){\n",
       "         LDAvis_load_lib(\"https://cdn.jsdelivr.net/gh/bmabey/pyLDAvis@3.4.0/pyLDAvis/js/ldavis.v3.0.0.js\", function(){\n",
       "                 new LDAvis(\"#\" + \"ldavis_el3521623296760587364739842552\", ldavis_el3521623296760587364739842552_data);\n",
       "            })\n",
       "         });\n",
       "}\n",
       "</script>"
      ],
      "text/plain": [
       "PreparedData(topic_coordinates=              x         y  topics  cluster       Freq\n",
       "topic                                                \n",
       "1     -0.000171 -0.000480       1        1  74.238809\n",
       "0     -0.000382  0.000372       2        1  25.644699\n",
       "2      0.000553  0.000108       3        1   0.116492, topic_info=         Term      Freq     Total Category  logprob  loglift\n",
       "259      upon  3.000000  3.000000  Default  30.0000  30.0000\n",
       "248        th  3.000000  3.000000  Default  29.0000  29.0000\n",
       "41   children  2.000000  2.000000  Default  28.0000  28.0000\n",
       "12    arrived  2.000000  2.000000  Default  27.0000  27.0000\n",
       "117     great  2.000000  2.000000  Default  26.0000  26.0000\n",
       "..        ...       ...       ...      ...      ...      ...\n",
       "70    dragoon  0.001895  1.679537   Topic3  -5.3598  -0.0319\n",
       "161      mate  0.001863  1.634323   Topic3  -5.3768  -0.0216\n",
       "190       per  0.002276  2.330120   Topic3  -5.1765  -0.1760\n",
       "17       beef  0.001876  1.658266   Topic3  -5.3699  -0.0292\n",
       "183   ordered  0.002231  2.442571   Topic3  -5.1967  -0.2433\n",
       "\n",
       "[200 rows x 6 columns], token_table=      Topic      Freq       Term\n",
       "term                            \n",
       "0         1  0.942365    admiral\n",
       "4         1  0.613400        age\n",
       "5         1  0.970545        ago\n",
       "6         1  0.577677     agreed\n",
       "11        1  0.861577      april\n",
       "...     ...       ...        ...\n",
       "276       1  0.945097     wilson\n",
       "277       1  0.589620      years\n",
       "278       1  0.924309  yesterday\n",
       "279       1  0.600966       york\n",
       "280       1  0.610577      young\n",
       "\n",
       "[124 rows x 3 columns], R=30, lambda_step=0.01, plot_opts={'xlab': 'PC1', 'ylab': 'PC2'}, topic_order=[2, 1, 3])"
      ]
     },
     "execution_count": 11,
     "metadata": {},
     "output_type": "execute_result"
    }
   ],
   "source": [
    "with open(LDAvis_data_filepath, 'rb') as f:\n",
    "    LDAvis_prepared = pickle.load(f)\n",
    "pyLDAvis.save_html(LDAvis_prepared, './ldavis_prepared_'+ str(num_topics) +'.html')\n",
    "LDAvis_prepared"
   ]
  },
  {
   "cell_type": "code",
   "execution_count": null,
   "id": "61e44f58",
   "metadata": {},
   "outputs": [],
   "source": []
  },
  {
   "cell_type": "code",
   "execution_count": null,
   "id": "1813d19c",
   "metadata": {},
   "outputs": [],
   "source": []
  },
  {
   "cell_type": "code",
   "execution_count": null,
   "id": "fdb13e3b",
   "metadata": {},
   "outputs": [],
   "source": []
  },
  {
   "cell_type": "code",
   "execution_count": null,
   "id": "79136600",
   "metadata": {},
   "outputs": [],
   "source": []
  }
 ],
 "metadata": {
  "kernelspec": {
   "display_name": "Python [conda env:.conda-opencv]",
   "language": "python",
   "name": "conda-env-.conda-opencv-py"
  },
  "language_info": {
   "codemirror_mode": {
    "name": "ipython",
    "version": 3
   },
   "file_extension": ".py",
   "mimetype": "text/x-python",
   "name": "python",
   "nbconvert_exporter": "python",
   "pygments_lexer": "ipython3",
   "version": "3.10.9"
  }
 },
 "nbformat": 4,
 "nbformat_minor": 5
}
